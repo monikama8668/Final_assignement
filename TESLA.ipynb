{
 "cells": [
  {
   "cell_type": "markdown",
   "metadata": {},
   "source": [
    "TESLA stock price prediction"
   ]
  },
  {
   "cell_type": "markdown",
   "metadata": {},
   "source": [
    "!!!!!!!!Recurrent Neural Networks"
   ]
  },
  {
   "cell_type": "code",
   "execution_count": 2,
   "metadata": {},
   "outputs": [],
   "source": [
    "# importing the libraries\n",
    "import numpy as np\n",
    "import matplotlib.pyplot as plt\n",
    "import pandas as pd"
   ]
  },
  {
   "cell_type": "markdown",
   "metadata": {},
   "source": [
    "!!!!!!!!Import the dataset"
   ]
  },
  {
   "cell_type": "code",
   "execution_count": 3,
   "metadata": {},
   "outputs": [],
   "source": [
    "#importing the dataset\n",
    "\n",
    "# load the file contents \n",
    "dataset_train = pd.read_csv('TESLA_Stock_Price_Train.csv')"
   ]
  },
  {
   "cell_type": "code",
   "execution_count": 4,
   "metadata": {},
   "outputs": [
    {
     "data": {
      "text/html": [
       "<div>\n",
       "<style scoped>\n",
       "    .dataframe tbody tr th:only-of-type {\n",
       "        vertical-align: middle;\n",
       "    }\n",
       "\n",
       "    .dataframe tbody tr th {\n",
       "        vertical-align: top;\n",
       "    }\n",
       "\n",
       "    .dataframe thead th {\n",
       "        text-align: right;\n",
       "    }\n",
       "</style>\n",
       "<table border=\"1\" class=\"dataframe\">\n",
       "  <thead>\n",
       "    <tr style=\"text-align: right;\">\n",
       "      <th></th>\n",
       "      <th>Date</th>\n",
       "      <th>Open</th>\n",
       "      <th>High</th>\n",
       "      <th>Low</th>\n",
       "      <th>Close</th>\n",
       "      <th>Adj Close</th>\n",
       "      <th>Volume</th>\n",
       "    </tr>\n",
       "  </thead>\n",
       "  <tbody>\n",
       "    <tr>\n",
       "      <td>0</td>\n",
       "      <td>2010-06-29</td>\n",
       "      <td>19.000000</td>\n",
       "      <td>25.00</td>\n",
       "      <td>17.540001</td>\n",
       "      <td>23.889999</td>\n",
       "      <td>23.889999</td>\n",
       "      <td>18766300</td>\n",
       "    </tr>\n",
       "    <tr>\n",
       "      <td>1</td>\n",
       "      <td>2010-06-30</td>\n",
       "      <td>25.790001</td>\n",
       "      <td>30.42</td>\n",
       "      <td>23.299999</td>\n",
       "      <td>23.830000</td>\n",
       "      <td>23.830000</td>\n",
       "      <td>17187100</td>\n",
       "    </tr>\n",
       "    <tr>\n",
       "      <td>2</td>\n",
       "      <td>2010-07-01</td>\n",
       "      <td>25.000000</td>\n",
       "      <td>25.92</td>\n",
       "      <td>20.270000</td>\n",
       "      <td>21.959999</td>\n",
       "      <td>21.959999</td>\n",
       "      <td>8218800</td>\n",
       "    </tr>\n",
       "    <tr>\n",
       "      <td>3</td>\n",
       "      <td>2010-07-02</td>\n",
       "      <td>23.000000</td>\n",
       "      <td>23.10</td>\n",
       "      <td>18.709999</td>\n",
       "      <td>19.200001</td>\n",
       "      <td>19.200001</td>\n",
       "      <td>5139800</td>\n",
       "    </tr>\n",
       "    <tr>\n",
       "      <td>4</td>\n",
       "      <td>2010-07-06</td>\n",
       "      <td>20.000000</td>\n",
       "      <td>20.00</td>\n",
       "      <td>15.830000</td>\n",
       "      <td>16.110001</td>\n",
       "      <td>16.110001</td>\n",
       "      <td>6866900</td>\n",
       "    </tr>\n",
       "  </tbody>\n",
       "</table>\n",
       "</div>"
      ],
      "text/plain": [
       "         Date       Open   High        Low      Close  Adj Close    Volume\n",
       "0  2010-06-29  19.000000  25.00  17.540001  23.889999  23.889999  18766300\n",
       "1  2010-06-30  25.790001  30.42  23.299999  23.830000  23.830000  17187100\n",
       "2  2010-07-01  25.000000  25.92  20.270000  21.959999  21.959999   8218800\n",
       "3  2010-07-02  23.000000  23.10  18.709999  19.200001  19.200001   5139800\n",
       "4  2010-07-06  20.000000  20.00  15.830000  16.110001  16.110001   6866900"
      ]
     },
     "execution_count": 4,
     "metadata": {},
     "output_type": "execute_result"
    }
   ],
   "source": [
    "dataset_train.head()"
   ]
  },
  {
   "cell_type": "code",
   "execution_count": 5,
   "metadata": {},
   "outputs": [],
   "source": [
    "# Create a subtable of relevant entries (open values)\n",
    "# The .values makes this vector a numpy array\n",
    "training_set = dataset_train.iloc[:, 1:2].values"
   ]
  },
  {
   "cell_type": "code",
   "execution_count": 6,
   "metadata": {},
   "outputs": [
    {
     "data": {
      "text/plain": [
       "array([[ 19.      ],\n",
       "       [ 25.790001],\n",
       "       [ 25.      ],\n",
       "       ...,\n",
       "       [226.919998],\n",
       "       [227.089996],\n",
       "       [232.899994]])"
      ]
     },
     "execution_count": 6,
     "metadata": {},
     "output_type": "execute_result"
    }
   ],
   "source": [
    "training_set"
   ]
  },
  {
   "cell_type": "markdown",
   "metadata": {},
   "source": [
    "!!!!!!!!Feature Scaling"
   ]
  },
  {
   "cell_type": "code",
   "execution_count": 7,
   "metadata": {},
   "outputs": [],
   "source": [
    "# Feature Scaling\n",
    "\n",
    "# import the MinMaxScaler\n",
    "from sklearn.preprocessing import MinMaxScaler"
   ]
  },
  {
   "cell_type": "code",
   "execution_count": 8,
   "metadata": {},
   "outputs": [],
   "source": [
    "# create a scaler instance to rescale all data to the range of 0.0 to 1.0 \n",
    "sc = MinMaxScaler(feature_range = (0, 1))"
   ]
  },
  {
   "cell_type": "code",
   "execution_count": 9,
   "metadata": {},
   "outputs": [],
   "source": [
    "# create the actual training set of scaled values\n",
    "training_set_scaled = sc.fit_transform(training_set)"
   ]
  },
  {
   "cell_type": "code",
   "execution_count": 10,
   "metadata": {},
   "outputs": [
    {
     "data": {
      "text/plain": [
       "array([[0.00771826],\n",
       "       [0.02604237],\n",
       "       [0.02391041],\n",
       "       ...,\n",
       "       [0.56883011],\n",
       "       [0.56928888],\n",
       "       [0.58496827]])"
      ]
     },
     "execution_count": 10,
     "metadata": {},
     "output_type": "execute_result"
    }
   ],
   "source": [
    "training_set_scaled"
   ]
  },
  {
   "cell_type": "markdown",
   "metadata": {},
   "source": [
    "!!!!!!!!Splitting the training set to dependent and independent variables"
   ]
  },
  {
   "cell_type": "code",
   "execution_count": 11,
   "metadata": {},
   "outputs": [],
   "source": [
    "# Creating a data structure with 120 timesteps and 1 output\n",
    "\n",
    "# the 120 stock prices in the last 6 months before today\n",
    "X_train = [] "
   ]
  },
  {
   "cell_type": "code",
   "execution_count": 12,
   "metadata": {},
   "outputs": [
    {
     "data": {
      "text/plain": [
       "(2287, 1)"
      ]
     },
     "execution_count": 12,
     "metadata": {},
     "output_type": "execute_result"
    }
   ],
   "source": [
    "training_set_scaled.shape"
   ]
  },
  {
   "cell_type": "code",
   "execution_count": 13,
   "metadata": {},
   "outputs": [],
   "source": [
    "# the stock price today\n",
    "y_train = [] "
   ]
  },
  {
   "cell_type": "code",
   "execution_count": 14,
   "metadata": {},
   "outputs": [],
   "source": [
    "# we start from day 120 because that is the first instance allowing us to \n",
    "# go back 120 days \n",
    "# PATAISYTI\n",
    "for i in range(120, 2287): \n",
    "    # 0 is the column ID, the only column in this case.    \n",
    "    # put the last 120 days values in one row of X_train\n",
    "    X_train.append(training_set_scaled[i-120:i, 0]) \n",
    "    y_train.append(training_set_scaled[i, 0])\n"
   ]
  },
  {
   "cell_type": "code",
   "execution_count": 15,
   "metadata": {},
   "outputs": [],
   "source": [
    "X_train, y_train = np.array(X_train), np.array(y_train)"
   ]
  },
  {
   "cell_type": "code",
   "execution_count": 16,
   "metadata": {},
   "outputs": [
    {
     "data": {
      "text/plain": [
       "array([[0.00771826, 0.02604237, 0.02391041, ..., 0.03818648, 0.0338146 ,\n",
       "        0.03740386],\n",
       "       [0.02604237, 0.02391041, 0.01851302, ..., 0.0338146 , 0.03740386,\n",
       "        0.04102011],\n",
       "       [0.02391041, 0.01851302, 0.01041695, ..., 0.03740386, 0.04102011,\n",
       "        0.04182971],\n",
       "       ...,\n",
       "       [0.8010795 , 0.79975709, 0.81891781, ..., 0.6492241 , 0.65586294,\n",
       "        0.5865875 ],\n",
       "       [0.79975709, 0.81891781, 0.80194302, ..., 0.65586294, 0.5865875 ,\n",
       "        0.56883011],\n",
       "       [0.81891781, 0.80194302, 0.78448249, ..., 0.5865875 , 0.56883011,\n",
       "        0.56928888]])"
      ]
     },
     "execution_count": 16,
     "metadata": {},
     "output_type": "execute_result"
    }
   ],
   "source": [
    "X_train"
   ]
  },
  {
   "cell_type": "markdown",
   "metadata": {},
   "source": [
    "!!!!!!!!!Reshaping the Matrix"
   ]
  },
  {
   "cell_type": "code",
   "execution_count": 17,
   "metadata": {},
   "outputs": [],
   "source": [
    "# Reshaping the data matrix, we retain the 2 original dimensions and add a third of depth=1\n",
    "X_train = np.reshape(X_train, (X_train.shape[0], X_train.shape[1], 1))"
   ]
  },
  {
   "cell_type": "markdown",
   "metadata": {},
   "source": [
    "!!!!!!!!Building the RNN\n",
    "RNN initialization"
   ]
  },
  {
   "cell_type": "code",
   "execution_count": 18,
   "metadata": {},
   "outputs": [
    {
     "name": "stderr",
     "output_type": "stream",
     "text": [
      "Using TensorFlow backend.\n",
      "/opt/conda/lib/python3.7/site-packages/tensorflow/python/framework/dtypes.py:526: FutureWarning: Passing (type, 1) or '1type' as a synonym of type is deprecated; in a future version of numpy, it will be understood as (type, (1,)) / '(1,)type'.\n",
      "  _np_qint8 = np.dtype([(\"qint8\", np.int8, 1)])\n",
      "/opt/conda/lib/python3.7/site-packages/tensorflow/python/framework/dtypes.py:527: FutureWarning: Passing (type, 1) or '1type' as a synonym of type is deprecated; in a future version of numpy, it will be understood as (type, (1,)) / '(1,)type'.\n",
      "  _np_quint8 = np.dtype([(\"quint8\", np.uint8, 1)])\n",
      "/opt/conda/lib/python3.7/site-packages/tensorflow/python/framework/dtypes.py:528: FutureWarning: Passing (type, 1) or '1type' as a synonym of type is deprecated; in a future version of numpy, it will be understood as (type, (1,)) / '(1,)type'.\n",
      "  _np_qint16 = np.dtype([(\"qint16\", np.int16, 1)])\n",
      "/opt/conda/lib/python3.7/site-packages/tensorflow/python/framework/dtypes.py:529: FutureWarning: Passing (type, 1) or '1type' as a synonym of type is deprecated; in a future version of numpy, it will be understood as (type, (1,)) / '(1,)type'.\n",
      "  _np_quint16 = np.dtype([(\"quint16\", np.uint16, 1)])\n",
      "/opt/conda/lib/python3.7/site-packages/tensorflow/python/framework/dtypes.py:530: FutureWarning: Passing (type, 1) or '1type' as a synonym of type is deprecated; in a future version of numpy, it will be understood as (type, (1,)) / '(1,)type'.\n",
      "  _np_qint32 = np.dtype([(\"qint32\", np.int32, 1)])\n",
      "/opt/conda/lib/python3.7/site-packages/tensorflow/python/framework/dtypes.py:535: FutureWarning: Passing (type, 1) or '1type' as a synonym of type is deprecated; in a future version of numpy, it will be understood as (type, (1,)) / '(1,)type'.\n",
      "  np_resource = np.dtype([(\"resource\", np.ubyte, 1)])\n"
     ]
    }
   ],
   "source": [
    "# Importing the Keras libraries and packages\n",
    "from keras.models import Sequential\n",
    "from keras.layers import Dense\n",
    "from keras.layers import LSTM\n",
    "from keras.layers import Dropout"
   ]
  },
  {
   "cell_type": "code",
   "execution_count": 19,
   "metadata": {},
   "outputs": [],
   "source": [
    "# Initialising the RNN as a sequence of layers\n",
    "regressor = Sequential()"
   ]
  },
  {
   "cell_type": "markdown",
   "metadata": {},
   "source": [
    "!!!!!!!!Add First Layer"
   ]
  },
  {
   "cell_type": "code",
   "execution_count": 20,
   "metadata": {},
   "outputs": [
    {
     "name": "stdout",
     "output_type": "stream",
     "text": [
      "WARNING:tensorflow:From /opt/conda/lib/python3.7/site-packages/tensorflow/python/framework/op_def_library.py:263: colocate_with (from tensorflow.python.framework.ops) is deprecated and will be removed in a future version.\n",
      "Instructions for updating:\n",
      "Colocations handled automatically by placer.\n"
     ]
    }
   ],
   "source": [
    "# Adding the input layer and the LSTM layer\n",
    "regressor.add(LSTM(units = 100, return_sequences = True, input_shape =  (X_train.shape[1], 1)))"
   ]
  },
  {
   "cell_type": "code",
   "execution_count": 21,
   "metadata": {},
   "outputs": [
    {
     "name": "stdout",
     "output_type": "stream",
     "text": [
      "WARNING:tensorflow:From /opt/conda/lib/python3.7/site-packages/keras/backend/tensorflow_backend.py:3733: calling dropout (from tensorflow.python.ops.nn_ops) with keep_prob is deprecated and will be removed in a future version.\n",
      "Instructions for updating:\n",
      "Please use `rate` instead of `keep_prob`. Rate should be set to `rate = 1 - keep_prob`.\n"
     ]
    }
   ],
   "source": [
    "# the argument is the dropout rate to ignore in the layers (20%), \n",
    "# i.e. 100 units * 20% = 20 units will be dropped each time\n",
    "regressor.add(Dropout(0.2))"
   ]
  },
  {
   "cell_type": "markdown",
   "metadata": {},
   "source": [
    "!!!!!!!!Add More Layers"
   ]
  },
  {
   "cell_type": "code",
   "execution_count": 22,
   "metadata": {},
   "outputs": [],
   "source": [
    "# Adding a second LSTM layer and some Dropout regularisation\n",
    "regressor.add(LSTM(units = 100, return_sequences = True))\n",
    "regressor.add(Dropout(0.2))"
   ]
  },
  {
   "cell_type": "code",
   "execution_count": 23,
   "metadata": {},
   "outputs": [],
   "source": [
    "# Adding a third LSTM layer and some Dropout regularisation\n",
    "regressor.add(LSTM(units = 100, return_sequences = True))\n",
    "regressor.add(Dropout(0.2))"
   ]
  },
  {
   "cell_type": "code",
   "execution_count": 24,
   "metadata": {},
   "outputs": [],
   "source": [
    "# Adding a fourth LSTM layer and some Dropout regularisation\n",
    "# we removed the return_sequences because we no longer return a \n",
    "# sequence but a value instead\n",
    "regressor.add(LSTM(units = 100))\n",
    "regressor.add(Dropout(0.2))"
   ]
  },
  {
   "cell_type": "markdown",
   "metadata": {},
   "source": [
    "!!!!!!!!!Add Output Layer & Compile"
   ]
  },
  {
   "cell_type": "code",
   "execution_count": 25,
   "metadata": {},
   "outputs": [],
   "source": [
    "# Adding the output layer\n",
    "regressor.add(Dense(units = 1))"
   ]
  },
  {
   "cell_type": "code",
   "execution_count": 26,
   "metadata": {},
   "outputs": [],
   "source": [
    "# Compiling the RNN\n",
    "regressor.compile(optimizer = 'adam', loss = 'mean_squared_error')"
   ]
  },
  {
   "cell_type": "markdown",
   "metadata": {},
   "source": [
    "!!!!!!!!Train and deploy the RNN"
   ]
  },
  {
   "cell_type": "code",
   "execution_count": 27,
   "metadata": {},
   "outputs": [
    {
     "name": "stdout",
     "output_type": "stream",
     "text": [
      "WARNING:tensorflow:From /opt/conda/lib/python3.7/site-packages/tensorflow/python/ops/math_ops.py:3066: to_int32 (from tensorflow.python.ops.math_ops) is deprecated and will be removed in a future version.\n",
      "Instructions for updating:\n",
      "Use tf.cast instead.\n",
      "Epoch 1/25\n",
      "2167/2167 [==============================] - 48s 22ms/step - loss: 0.0239\n",
      "Epoch 2/25\n",
      "2167/2167 [==============================] - 45s 21ms/step - loss: 0.0043\n",
      "Epoch 3/25\n",
      "2167/2167 [==============================] - 45s 21ms/step - loss: 0.0047\n",
      "Epoch 4/25\n",
      "2167/2167 [==============================] - 43s 20ms/step - loss: 0.0042\n",
      "Epoch 5/25\n",
      "2167/2167 [==============================] - 43s 20ms/step - loss: 0.0035\n",
      "Epoch 6/25\n",
      "2167/2167 [==============================] - 43s 20ms/step - loss: 0.0036\n",
      "Epoch 7/25\n",
      "2167/2167 [==============================] - 47s 22ms/step - loss: 0.0033\n",
      "Epoch 8/25\n",
      "2167/2167 [==============================] - 47s 22ms/step - loss: 0.0030\n",
      "Epoch 9/25\n",
      "2167/2167 [==============================] - 47s 21ms/step - loss: 0.0027\n",
      "Epoch 10/25\n",
      "2167/2167 [==============================] - 44s 20ms/step - loss: 0.0027\n",
      "Epoch 11/25\n",
      "2167/2167 [==============================] - 45s 21ms/step - loss: 0.0025\n",
      "Epoch 12/25\n",
      "2167/2167 [==============================] - 46s 21ms/step - loss: 0.0025\n",
      "Epoch 13/25\n",
      "2167/2167 [==============================] - 47s 22ms/step - loss: 0.0024\n",
      "Epoch 14/25\n",
      "2167/2167 [==============================] - 47s 22ms/step - loss: 0.0024\n",
      "Epoch 15/25\n",
      "2167/2167 [==============================] - 47s 21ms/step - loss: 0.0021\n",
      "Epoch 16/25\n",
      "2167/2167 [==============================] - 46s 21ms/step - loss: 0.0022\n",
      "Epoch 17/25\n",
      "2167/2167 [==============================] - 47s 22ms/step - loss: 0.0021\n",
      "Epoch 18/25\n",
      "2167/2167 [==============================] - 48s 22ms/step - loss: 0.0024\n",
      "Epoch 19/25\n",
      "2167/2167 [==============================] - 49s 23ms/step - loss: 0.0023\n",
      "Epoch 20/25\n",
      "2167/2167 [==============================] - 48s 22ms/step - loss: 0.0019\n",
      "Epoch 21/25\n",
      "2167/2167 [==============================] - 47s 22ms/step - loss: 0.0019\n",
      "Epoch 22/25\n",
      "2167/2167 [==============================] - 45s 21ms/step - loss: 0.0018\n",
      "Epoch 23/25\n",
      "2167/2167 [==============================] - 43s 20ms/step - loss: 0.0018\n",
      "Epoch 24/25\n",
      "2167/2167 [==============================] - 46s 21ms/step - loss: 0.0017\n",
      "Epoch 25/25\n",
      "2167/2167 [==============================] - 44s 20ms/step - loss: 0.0017\n"
     ]
    },
    {
     "data": {
      "text/plain": [
       "<keras.callbacks.History at 0x7f81b5fac390>"
      ]
     },
     "execution_count": 27,
     "metadata": {},
     "output_type": "execute_result"
    }
   ],
   "source": [
    "# Fitting the RNN to the Training set \n",
    "#!!!!!pakeisti 25->100\n",
    "regressor.fit(X_train, y_train, epochs = 25, batch_size = 32)"
   ]
  },
  {
   "cell_type": "markdown",
   "metadata": {},
   "source": [
    "!!!!!!!!!Computing Predictions"
   ]
  },
  {
   "cell_type": "code",
   "execution_count": 28,
   "metadata": {},
   "outputs": [
    {
     "data": {
      "text/html": [
       "<div>\n",
       "<style scoped>\n",
       "    .dataframe tbody tr th:only-of-type {\n",
       "        vertical-align: middle;\n",
       "    }\n",
       "\n",
       "    .dataframe tbody tr th {\n",
       "        vertical-align: top;\n",
       "    }\n",
       "\n",
       "    .dataframe thead th {\n",
       "        text-align: right;\n",
       "    }\n",
       "</style>\n",
       "<table border=\"1\" class=\"dataframe\">\n",
       "  <thead>\n",
       "    <tr style=\"text-align: right;\">\n",
       "      <th></th>\n",
       "      <th>Date</th>\n",
       "      <th>Open</th>\n",
       "      <th>High</th>\n",
       "      <th>Low</th>\n",
       "      <th>Close</th>\n",
       "      <th>Adj Close</th>\n",
       "      <th>Volume</th>\n",
       "    </tr>\n",
       "  </thead>\n",
       "  <tbody>\n",
       "    <tr>\n",
       "      <td>0</td>\n",
       "      <td>2019-07-31</td>\n",
       "      <td>243.000000</td>\n",
       "      <td>246.679993</td>\n",
       "      <td>236.649994</td>\n",
       "      <td>241.610001</td>\n",
       "      <td>241.610001</td>\n",
       "      <td>9178200</td>\n",
       "    </tr>\n",
       "    <tr>\n",
       "      <td>1</td>\n",
       "      <td>2019-08-01</td>\n",
       "      <td>242.649994</td>\n",
       "      <td>244.509995</td>\n",
       "      <td>231.770004</td>\n",
       "      <td>233.850006</td>\n",
       "      <td>233.850006</td>\n",
       "      <td>8259500</td>\n",
       "    </tr>\n",
       "    <tr>\n",
       "      <td>2</td>\n",
       "      <td>2019-08-02</td>\n",
       "      <td>231.350006</td>\n",
       "      <td>236.270004</td>\n",
       "      <td>229.229996</td>\n",
       "      <td>234.339996</td>\n",
       "      <td>234.339996</td>\n",
       "      <td>6136500</td>\n",
       "    </tr>\n",
       "    <tr>\n",
       "      <td>3</td>\n",
       "      <td>2019-08-05</td>\n",
       "      <td>229.600006</td>\n",
       "      <td>231.369995</td>\n",
       "      <td>225.779999</td>\n",
       "      <td>228.320007</td>\n",
       "      <td>228.320007</td>\n",
       "      <td>7028300</td>\n",
       "    </tr>\n",
       "    <tr>\n",
       "      <td>4</td>\n",
       "      <td>2019-08-06</td>\n",
       "      <td>231.880005</td>\n",
       "      <td>232.500000</td>\n",
       "      <td>225.750000</td>\n",
       "      <td>230.750000</td>\n",
       "      <td>230.750000</td>\n",
       "      <td>5564200</td>\n",
       "    </tr>\n",
       "    <tr>\n",
       "      <td>5</td>\n",
       "      <td>2019-08-07</td>\n",
       "      <td>226.500000</td>\n",
       "      <td>233.570007</td>\n",
       "      <td>225.800003</td>\n",
       "      <td>233.419998</td>\n",
       "      <td>233.419998</td>\n",
       "      <td>4776500</td>\n",
       "    </tr>\n",
       "    <tr>\n",
       "      <td>6</td>\n",
       "      <td>2019-08-08</td>\n",
       "      <td>234.449997</td>\n",
       "      <td>239.800003</td>\n",
       "      <td>232.649994</td>\n",
       "      <td>238.300003</td>\n",
       "      <td>238.300003</td>\n",
       "      <td>5274300</td>\n",
       "    </tr>\n",
       "    <tr>\n",
       "      <td>7</td>\n",
       "      <td>2019-08-09</td>\n",
       "      <td>236.050003</td>\n",
       "      <td>238.960007</td>\n",
       "      <td>233.809998</td>\n",
       "      <td>235.009995</td>\n",
       "      <td>235.009995</td>\n",
       "      <td>3898200</td>\n",
       "    </tr>\n",
       "    <tr>\n",
       "      <td>8</td>\n",
       "      <td>2019-08-12</td>\n",
       "      <td>232.990005</td>\n",
       "      <td>235.770004</td>\n",
       "      <td>228.750000</td>\n",
       "      <td>229.009995</td>\n",
       "      <td>229.009995</td>\n",
       "      <td>4663900</td>\n",
       "    </tr>\n",
       "    <tr>\n",
       "      <td>9</td>\n",
       "      <td>2019-08-13</td>\n",
       "      <td>228.809998</td>\n",
       "      <td>236.000000</td>\n",
       "      <td>227.550003</td>\n",
       "      <td>235.000000</td>\n",
       "      <td>235.000000</td>\n",
       "      <td>4848100</td>\n",
       "    </tr>\n",
       "    <tr>\n",
       "      <td>10</td>\n",
       "      <td>2019-08-14</td>\n",
       "      <td>231.210007</td>\n",
       "      <td>231.500000</td>\n",
       "      <td>216.690002</td>\n",
       "      <td>219.619995</td>\n",
       "      <td>219.619995</td>\n",
       "      <td>9562600</td>\n",
       "    </tr>\n",
       "    <tr>\n",
       "      <td>11</td>\n",
       "      <td>2019-08-15</td>\n",
       "      <td>220.860001</td>\n",
       "      <td>221.559998</td>\n",
       "      <td>211.550003</td>\n",
       "      <td>215.639999</td>\n",
       "      <td>215.639999</td>\n",
       "      <td>8159600</td>\n",
       "    </tr>\n",
       "    <tr>\n",
       "      <td>12</td>\n",
       "      <td>2019-08-16</td>\n",
       "      <td>216.660004</td>\n",
       "      <td>222.240005</td>\n",
       "      <td>216.020004</td>\n",
       "      <td>219.940002</td>\n",
       "      <td>219.940002</td>\n",
       "      <td>5098500</td>\n",
       "    </tr>\n",
       "    <tr>\n",
       "      <td>13</td>\n",
       "      <td>2019-08-19</td>\n",
       "      <td>224.210007</td>\n",
       "      <td>227.830002</td>\n",
       "      <td>221.699997</td>\n",
       "      <td>226.830002</td>\n",
       "      <td>226.830002</td>\n",
       "      <td>5309600</td>\n",
       "    </tr>\n",
       "    <tr>\n",
       "      <td>14</td>\n",
       "      <td>2019-08-20</td>\n",
       "      <td>227.619995</td>\n",
       "      <td>229.089996</td>\n",
       "      <td>224.539993</td>\n",
       "      <td>225.860001</td>\n",
       "      <td>225.860001</td>\n",
       "      <td>4125200</td>\n",
       "    </tr>\n",
       "    <tr>\n",
       "      <td>15</td>\n",
       "      <td>2019-08-21</td>\n",
       "      <td>222.009995</td>\n",
       "      <td>223.220001</td>\n",
       "      <td>217.600006</td>\n",
       "      <td>220.830002</td>\n",
       "      <td>220.830002</td>\n",
       "      <td>7794300</td>\n",
       "    </tr>\n",
       "    <tr>\n",
       "      <td>16</td>\n",
       "      <td>2019-08-22</td>\n",
       "      <td>222.800003</td>\n",
       "      <td>225.399994</td>\n",
       "      <td>218.220001</td>\n",
       "      <td>222.149994</td>\n",
       "      <td>222.149994</td>\n",
       "      <td>6559000</td>\n",
       "    </tr>\n",
       "    <tr>\n",
       "      <td>17</td>\n",
       "      <td>2019-08-23</td>\n",
       "      <td>219.970001</td>\n",
       "      <td>221.169998</td>\n",
       "      <td>211.000000</td>\n",
       "      <td>211.399994</td>\n",
       "      <td>211.399994</td>\n",
       "      <td>8538600</td>\n",
       "    </tr>\n",
       "    <tr>\n",
       "      <td>18</td>\n",
       "      <td>2019-08-26</td>\n",
       "      <td>213.600006</td>\n",
       "      <td>215.020004</td>\n",
       "      <td>211.539993</td>\n",
       "      <td>215.000000</td>\n",
       "      <td>215.000000</td>\n",
       "      <td>5051900</td>\n",
       "    </tr>\n",
       "    <tr>\n",
       "      <td>19</td>\n",
       "      <td>2019-08-27</td>\n",
       "      <td>215.740005</td>\n",
       "      <td>218.800003</td>\n",
       "      <td>212.029999</td>\n",
       "      <td>214.080002</td>\n",
       "      <td>214.080002</td>\n",
       "      <td>5416200</td>\n",
       "    </tr>\n",
       "    <tr>\n",
       "      <td>20</td>\n",
       "      <td>2019-08-28</td>\n",
       "      <td>213.690002</td>\n",
       "      <td>217.250000</td>\n",
       "      <td>212.309998</td>\n",
       "      <td>215.589996</td>\n",
       "      <td>215.589996</td>\n",
       "      <td>3225500</td>\n",
       "    </tr>\n",
       "    <tr>\n",
       "      <td>21</td>\n",
       "      <td>2019-08-29</td>\n",
       "      <td>219.000000</td>\n",
       "      <td>223.399994</td>\n",
       "      <td>218.000000</td>\n",
       "      <td>221.710007</td>\n",
       "      <td>221.710007</td>\n",
       "      <td>5179500</td>\n",
       "    </tr>\n",
       "    <tr>\n",
       "      <td>22</td>\n",
       "      <td>2019-08-30</td>\n",
       "      <td>229.149994</td>\n",
       "      <td>232.440002</td>\n",
       "      <td>224.210007</td>\n",
       "      <td>225.610001</td>\n",
       "      <td>225.610001</td>\n",
       "      <td>9320600</td>\n",
       "    </tr>\n",
       "  </tbody>\n",
       "</table>\n",
       "</div>"
      ],
      "text/plain": [
       "          Date        Open        High         Low       Close   Adj Close  \\\n",
       "0   2019-07-31  243.000000  246.679993  236.649994  241.610001  241.610001   \n",
       "1   2019-08-01  242.649994  244.509995  231.770004  233.850006  233.850006   \n",
       "2   2019-08-02  231.350006  236.270004  229.229996  234.339996  234.339996   \n",
       "3   2019-08-05  229.600006  231.369995  225.779999  228.320007  228.320007   \n",
       "4   2019-08-06  231.880005  232.500000  225.750000  230.750000  230.750000   \n",
       "5   2019-08-07  226.500000  233.570007  225.800003  233.419998  233.419998   \n",
       "6   2019-08-08  234.449997  239.800003  232.649994  238.300003  238.300003   \n",
       "7   2019-08-09  236.050003  238.960007  233.809998  235.009995  235.009995   \n",
       "8   2019-08-12  232.990005  235.770004  228.750000  229.009995  229.009995   \n",
       "9   2019-08-13  228.809998  236.000000  227.550003  235.000000  235.000000   \n",
       "10  2019-08-14  231.210007  231.500000  216.690002  219.619995  219.619995   \n",
       "11  2019-08-15  220.860001  221.559998  211.550003  215.639999  215.639999   \n",
       "12  2019-08-16  216.660004  222.240005  216.020004  219.940002  219.940002   \n",
       "13  2019-08-19  224.210007  227.830002  221.699997  226.830002  226.830002   \n",
       "14  2019-08-20  227.619995  229.089996  224.539993  225.860001  225.860001   \n",
       "15  2019-08-21  222.009995  223.220001  217.600006  220.830002  220.830002   \n",
       "16  2019-08-22  222.800003  225.399994  218.220001  222.149994  222.149994   \n",
       "17  2019-08-23  219.970001  221.169998  211.000000  211.399994  211.399994   \n",
       "18  2019-08-26  213.600006  215.020004  211.539993  215.000000  215.000000   \n",
       "19  2019-08-27  215.740005  218.800003  212.029999  214.080002  214.080002   \n",
       "20  2019-08-28  213.690002  217.250000  212.309998  215.589996  215.589996   \n",
       "21  2019-08-29  219.000000  223.399994  218.000000  221.710007  221.710007   \n",
       "22  2019-08-30  229.149994  232.440002  224.210007  225.610001  225.610001   \n",
       "\n",
       "     Volume  \n",
       "0   9178200  \n",
       "1   8259500  \n",
       "2   6136500  \n",
       "3   7028300  \n",
       "4   5564200  \n",
       "5   4776500  \n",
       "6   5274300  \n",
       "7   3898200  \n",
       "8   4663900  \n",
       "9   4848100  \n",
       "10  9562600  \n",
       "11  8159600  \n",
       "12  5098500  \n",
       "13  5309600  \n",
       "14  4125200  \n",
       "15  7794300  \n",
       "16  6559000  \n",
       "17  8538600  \n",
       "18  5051900  \n",
       "19  5416200  \n",
       "20  3225500  \n",
       "21  5179500  \n",
       "22  9320600  "
      ]
     },
     "execution_count": 28,
     "metadata": {},
     "output_type": "execute_result"
    }
   ],
   "source": [
    "# Getting the real stock price for July 31st 2009 - \n",
    "# July 31st 2019\n",
    "\n",
    "dataset_test = pd.read_csv('TESLA_Stock_Price_Test.csv')\n",
    "dataset_test"
   ]
  },
  {
   "cell_type": "code",
   "execution_count": 29,
   "metadata": {},
   "outputs": [
    {
     "data": {
      "text/plain": [
       "23"
      ]
     },
     "execution_count": 29,
     "metadata": {},
     "output_type": "execute_result"
    }
   ],
   "source": [
    "real_stock_price = dataset_test.iloc[:, 1:2].values\n",
    "real_stock_price.size"
   ]
  },
  {
   "cell_type": "code",
   "execution_count": 30,
   "metadata": {},
   "outputs": [
    {
     "data": {
      "text/plain": [
       "array([[243.      ],\n",
       "       [242.649994],\n",
       "       [231.350006],\n",
       "       [229.600006],\n",
       "       [231.880005],\n",
       "       [226.5     ],\n",
       "       [234.449997],\n",
       "       [236.050003],\n",
       "       [232.990005],\n",
       "       [228.809998],\n",
       "       [231.210007],\n",
       "       [220.860001],\n",
       "       [216.660004],\n",
       "       [224.210007],\n",
       "       [227.619995],\n",
       "       [222.009995],\n",
       "       [222.800003],\n",
       "       [219.970001],\n",
       "       [213.600006],\n",
       "       [215.740005],\n",
       "       [213.690002],\n",
       "       [219.      ],\n",
       "       [229.149994]])"
      ]
     },
     "execution_count": 30,
     "metadata": {},
     "output_type": "execute_result"
    }
   ],
   "source": [
    "real_stock_price"
   ]
  },
  {
   "cell_type": "markdown",
   "metadata": {},
   "source": [
    "!!!!!!!!!To obtain this history we need to combine both the training and test sets in one.\n",
    "\n",
    "If we were to use the training_set and test_set we would need to use the scaler but that would change the actual test values. Thus concatenate the original data frames!"
   ]
  },
  {
   "cell_type": "code",
   "execution_count": 31,
   "metadata": {},
   "outputs": [],
   "source": [
    "# Getting the predicted stock price of 2019\n",
    "\n",
    "# axis = 0 means concatenate the lines (i.e. vertical axis)\n",
    "dataset_total = pd.concat((dataset_train['Open'], dataset_test['Open']), axis = 0) "
   ]
  },
  {
   "cell_type": "code",
   "execution_count": 32,
   "metadata": {},
   "outputs": [
    {
     "data": {
      "text/plain": [
       "2310"
      ]
     },
     "execution_count": 32,
     "metadata": {},
     "output_type": "execute_result"
    }
   ],
   "source": [
    "dataset_total.size"
   ]
  },
  {
   "cell_type": "code",
   "execution_count": 33,
   "metadata": {},
   "outputs": [],
   "source": [
    "# the difference in the length of the first two gives us \n",
    "# the first day in 2017, and we need to go back 120 days to get the necessary range\n",
    "inputs = dataset_total[len(dataset_total) - len(dataset_test) - 120:].values"
   ]
  },
  {
   "cell_type": "code",
   "execution_count": 34,
   "metadata": {},
   "outputs": [
    {
     "data": {
      "text/plain": [
       "143"
      ]
     },
     "execution_count": 34,
     "metadata": {},
     "output_type": "execute_result"
    }
   ],
   "source": [
    "inputs.size"
   ]
  },
  {
   "cell_type": "code",
   "execution_count": 35,
   "metadata": {},
   "outputs": [],
   "source": [
    "# we did not use iloc from panda so lets reshape the numpy array for \n",
    "# compatibility: i.e. all the values from input lines to be stacked in one \n",
    "# column. The -1 means that the numpy has no knowledge of how the \n",
    "# values were stored in lines. The 1 means we want to them in one \n",
    "# column.\n",
    "\n",
    "inputs = inputs.reshape(-1,1) \n",
    "\n",
    "# apply the feature scaler\n",
    "inputs = sc.transform(inputs)"
   ]
  },
  {
   "cell_type": "code",
   "execution_count": 36,
   "metadata": {},
   "outputs": [],
   "source": [
    "# Getting the predicted stock price of 2019\n",
    "X_test = []"
   ]
  },
  {
   "cell_type": "code",
   "execution_count": 37,
   "metadata": {},
   "outputs": [],
   "source": [
    "# the first 120 from inputs are from training set; start \n",
    "# from 120 and get the extra 20, i.e. up to 140\n",
    "for i in range(120, 141): \n",
    "    X_test.append(inputs[i-120:i, 0])"
   ]
  },
  {
   "cell_type": "code",
   "execution_count": 38,
   "metadata": {},
   "outputs": [],
   "source": [
    "X_test = np.array(X_test) # not 3D structure yet"
   ]
  },
  {
   "cell_type": "code",
   "execution_count": 39,
   "metadata": {},
   "outputs": [],
   "source": [
    "# create a 3D structure\n",
    "X_test = np.reshape(X_test, (X_test.shape[0], X_test.shape[1], 1))"
   ]
  },
  {
   "cell_type": "code",
   "execution_count": 40,
   "metadata": {},
   "outputs": [],
   "source": [
    "predicted_stock_price = regressor.predict(X_test)"
   ]
  },
  {
   "cell_type": "code",
   "execution_count": 41,
   "metadata": {},
   "outputs": [
    {
     "data": {
      "text/plain": [
       "21"
      ]
     },
     "execution_count": 41,
     "metadata": {},
     "output_type": "execute_result"
    }
   ],
   "source": [
    "# need to inverse the scaling to get meaningful predicted stock price # outputs\n",
    "predicted_stock_price = sc.inverse_transform(predicted_stock_price) \n",
    "predicted_stock_price.size"
   ]
  },
  {
   "cell_type": "markdown",
   "metadata": {},
   "source": [
    "!!!!!!!!Result Visualization"
   ]
  },
  {
   "cell_type": "code",
   "execution_count": 42,
   "metadata": {},
   "outputs": [
    {
     "data": {
      "image/png": "[encoded data removed]",
      "text/plain": [
       "<Figure size 432x288 with 1 Axes>"
      ]
     },
     "metadata": {
      "needs_background": "light"
     },
     "output_type": "display_data"
    }
   ],
   "source": [
    "# Visualising the results\n",
    "\n",
    "plt.plot(real_stock_price, color = 'black', label = 'Real Google Stock Price')\n",
    "\n",
    "plt.plot(predicted_stock_price, color = 'blue', label = 'Predicted Google Stock Price')\n",
    "\n",
    "plt.title('Google Stock Price Prediction')\n",
    "plt.xlabel('Time')\n",
    "plt.ylabel('Google Stock Price')\n",
    "plt.legend()\n",
    "\n",
    "plt.show()"
   ]
  },
  {
   "cell_type": "markdown",
   "metadata": {},
   "source": [
    "!!!!!!!!Compute the RMSE"
   ]
  },
  {
   "cell_type": "code",
   "execution_count": 43,
   "metadata": {},
   "outputs": [],
   "source": [
    "#import the libraries\n",
    "import math\n",
    "from sklearn.metrics import mean_squared_error"
   ]
  },
  {
   "cell_type": "code",
   "execution_count": 44,
   "metadata": {},
   "outputs": [
    {
     "data": {
      "text/plain": [
       "6.759463084458349"
      ]
     },
     "execution_count": 44,
     "metadata": {},
     "output_type": "execute_result"
    }
   ],
   "source": [
    "rmse = math.sqrt( mean_squared_error( real_stock_price[0:21,:], predicted_stock_price))\n",
    "rmse"
   ]
  },
  {
   "cell_type": "code",
   "execution_count": null,
   "metadata": {},
   "outputs": [],
   "source": []
  }
 ],
 "metadata": {
  "kernelspec": {
   "display_name": "Python 3",
   "language": "python",
   "name": "python3"
  },
  "language_info": {
   "codemirror_mode": {
    "name": "ipython",
    "version": 3
   },
   "file_extension": ".py",
   "mimetype": "text/x-python",
   "name": "python",
   "nbconvert_exporter": "python",
   "pygments_lexer": "ipython3",
   "version": "3.7.3"
  }
 },
 "nbformat": 4,
 "nbformat_minor": 2
}
